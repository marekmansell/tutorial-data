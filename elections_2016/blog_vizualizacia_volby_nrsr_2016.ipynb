{
 "cells": [
  {
   "cell_type": "markdown",
   "metadata": {},
   "source": [
    "# Vizualizácia preferenčných hlasov vo v roku 2016 voľbách v Pythone\n",
    "\n",
    "V súčasnosti je k dispozíci stále viac dát, ktoré novinári, marketéri či analytici využívajú pri svojej práci. Kľúčom k ich interpretácii je ale shopnosť vedieť ich spracovať a prípadane vizualizovať. My sme sa pozreli na to, ako vizualizovať preferenčné hlasy vybraných politikov vo voľbách v roku 2016 pomocou jazyka Python, knižnice Pandas a knižnice Folium.\n",
    "\n",
    "## Komu pomôže vizualizácia dát?\n",
    "Vizualizáciu dát môže využiť obrovské množstvo profesií. Zoberme si takého marketéra politickej strany - možno bude chcieť oslovovať voličov, u ktorých má vyššiu šancu na úspech na základe toho, aké strany strany volili v minulosti. V poslednom období sa taktiež hovorí viac aj o [dátových novinároch](https://dennikn.sk/blog/462494/co-robi-datovy-novinar-otestovali-vizualizacie-dat/), medzi ktorých patril aj Ján Kuciak. Tí využívajú analýzu dát napríklad na nachádzanie podvodov či odhaľovaní prepojení osôb. Kým v zahraničí je dátová žurnalistika štandard, na Slovensku sa iba pomaly rozbieha. A zabúdať netreba ani na osobné využitia, napríklad pre rodičov, ktorí práve vyberajú školu svojmu dieťaťu a chceli by si okolité školy spolu s ich hodnotením zobraziť prehľadne na mape.\n",
    "\n",
    "\n",
    "## Aké dáta budeme používať?\n",
    "Pre našu analýzu budeme používať dáta z parlamentných volieb z roku 2016 od [Štatistického úradu Slovenskej republiky](http://volby.statistics.sk/). Dostupných dát našťastie našťastie postupne pribúda, či už na úrovni štátnych organizácií, ktoré ich zverejňujú na portáli [data.gov.sk](https://data.gov.sk/dataset), alebo aj na úrovni individuálnych samospráv, ako napríklad [Bratislava](https://zive.aktuality.sk/clanok/143507/bratislava-zverejnila-zdrojove-kody-k-svojmu-portalu-otvorenych-dat-ma-aj-dalsie-novinky/) či [Prešov](https://sarisskyhackathon.sk/2019/10/zacal-sa-2-sarissky-hackathon-na-otvorenych-datach-mesta-presov-a-psk/).\n",
    "\n",
    "\n",
    "## Práca s dátami v Pythone\n",
    "- Jupyter Notebook\n",
    "- Pandas\n",
    "\n",
    "\n",
    "https://www.youtube.com/watch?v=rbIN9-zitPc\n",
    "\n",
    "<iframe width=\"560\" height=\"315\" src=\"https://www.youtube.com/embed/rbIN9-zitPc\" frameborder=\"0\" allow=\"accelerometer; autoplay; encrypted-media; gyroscope; picture-in-picture\" allowfullscreen></iframe>\n",
    "\n",
    "\n",
    "## Vykreslenie na mape\n",
    "- Folium\n",
    "- Body, heat mapa\n",
    "\n",
    "## Boj proti dezinformáciam\n",
    "\n",
    "\n",
    "## Aké iné dáta vieme získať?\n",
    "- data.gov.sk\n",
    "- skoly.ineko.sk\n",
    "- Open Data BA\n",
    "- crawler\n",
    "- \n",
    "\n",
    "\n",
    "\n",
    "\n",
    "# Research\n",
    "Technické články (inšpirácia, aký štýl použiť)\n",
    "https://zive.aktuality.sk/clanok/118398/minipocitac-raspberry-pi-dostal-nove-graficke-prostredie-pixel/\n",
    "https://zive.aktuality.sk/clanok/143507/bratislava-zverejnila-zdrojove-kody-k-svojmu-portalu-otvorenych-dat-ma-aj-dalsie-novinky/\n",
    "\n",
    "https://dennikn.sk/blog/462494/co-robi-datovy-novinar-otestovali-vizualizacie-dat/"
   ]
  },
  {
   "cell_type": "code",
   "execution_count": null,
   "metadata": {},
   "outputs": [],
   "source": []
  }
 ],
 "metadata": {
  "kernelspec": {
   "display_name": "Python 3",
   "language": "python",
   "name": "python3"
  },
  "language_info": {
   "codemirror_mode": {
    "name": "ipython",
    "version": 3
   },
   "file_extension": ".py",
   "mimetype": "text/x-python",
   "name": "python",
   "nbconvert_exporter": "python",
   "pygments_lexer": "ipython3",
   "version": "3.6.8"
  }
 },
 "nbformat": 4,
 "nbformat_minor": 4
}
